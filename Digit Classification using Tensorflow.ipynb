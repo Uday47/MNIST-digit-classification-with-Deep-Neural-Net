{
  "nbformat": 4,
  "nbformat_minor": 0,
  "metadata": {
    "colab": {
      "name": "MNIST DNNipynb",
      "provenance": [],
      "authorship_tag": "ABX9TyNRm5wBxPhQdWDlIqMuOCQ7"
    },
    "kernelspec": {
      "name": "python3",
      "display_name": "Python 3"
    }
  },
  "cells": [
    {
      "cell_type": "code",
      "metadata": {
        "id": "bQKzSCnbZyqi",
        "colab_type": "code",
        "colab": {}
      },
      "source": [
        "import tensorflow as tf\n",
        "#from os import path, getcwd, chdir\n",
        "path = \"/content/mnist.npz\""
      ],
      "execution_count": 3,
      "outputs": []
    },
    {
      "cell_type": "code",
      "metadata": {
        "id": "LSLS0WkPacL1",
        "colab_type": "code",
        "colab": {
          "base_uri": "https://localhost:8080/",
          "height": 35
        },
        "outputId": "3e7ac273-6378-4455-cd1c-4b2883ae45d9"
      },
      "source": [
        "tf.__version__"
      ],
      "execution_count": 4,
      "outputs": [
        {
          "output_type": "execute_result",
          "data": {
            "application/vnd.google.colaboratory.intrinsic+json": {
              "type": "string"
            },
            "text/plain": [
              "'2.2.0'"
            ]
          },
          "metadata": {
            "tags": []
          },
          "execution_count": 4
        }
      ]
    },
    {
      "cell_type": "code",
      "metadata": {
        "id": "exZ54WfaalkX",
        "colab_type": "code",
        "colab": {}
      },
      "source": [
        "\n",
        "def train_mnist():\n",
        "  class myCallback(tf.keras.callbacks.Callback):\n",
        "    def on_epoch_end(self, epoch, logs={}):\n",
        "      if(logs.get('accuracy')>0.99):\n",
        "        print(\"\\nReached 99% accuracy so cancelling training!\")\n",
        "        self.model.stop_training = True\n",
        "     \n",
        "  mnist = tf.keras.datasets.mnist\n",
        "  callbacks = myCallback()\n",
        "  (x_train, y_train),(x_test, y_test) = mnist.load_data(path=path)\n",
        "  x_train, x_test = x_train / 255.0, x_test / 255.0\n",
        "     \n",
        "  model = tf.keras.models.Sequential([\n",
        "                                        tf.keras.layers.Flatten(input_shape=(28, 28,)),\n",
        "                                        tf.keras.layers.Dense(512, activation=tf.nn.relu),\n",
        "                                        # tf.keras.layers.Dense(256, activation=tf.nn.relu),\n",
        "                                        tf.keras.layers.Dense(10, activation=tf.nn.softmax)])\n",
        "\n",
        "  model.compile(optimizer='adam',\n",
        "                  loss='sparse_categorical_crossentropy',\n",
        "                  metrics=['accuracy'])\n",
        "    # model fitting\n",
        "  history = model.fit(\n",
        "        x_train,y_train, epochs = 10, callbacks = [callbacks], batch_size = 32\n",
        "        )\n",
        "    # model fitting\n",
        "  eval1 = model.evaluate(x_test,y_test)\n",
        "  return history.epoch, history.history['accuracy'][-1], eval1"
      ],
      "execution_count": 27,
      "outputs": []
    },
    {
      "cell_type": "code",
      "metadata": {
        "id": "dFTvBTJIaoR9",
        "colab_type": "code",
        "colab": {
          "base_uri": "https://localhost:8080/",
          "height": 255
        },
        "outputId": "0e11f042-d6a1-4bbd-9f65-6e299f42c906"
      },
      "source": [
        "train_mnist()"
      ],
      "execution_count": 28,
      "outputs": [
        {
          "output_type": "stream",
          "text": [
            "Epoch 1/10\n",
            "1875/1875 [==============================] - 10s 6ms/step - loss: 0.1999 - accuracy: 0.9413\n",
            "Epoch 2/10\n",
            "1875/1875 [==============================] - 10s 5ms/step - loss: 0.0810 - accuracy: 0.9747\n",
            "Epoch 3/10\n",
            "1875/1875 [==============================] - 10s 6ms/step - loss: 0.0527 - accuracy: 0.9832\n",
            "Epoch 4/10\n",
            "1875/1875 [==============================] - 10s 5ms/step - loss: 0.0362 - accuracy: 0.9880\n",
            "Epoch 5/10\n",
            "1866/1875 [============================>.] - ETA: 0s - loss: 0.0272 - accuracy: 0.9910\n",
            "Reached 99% accuracy so cancelling training!\n",
            "1875/1875 [==============================] - 9s 5ms/step - loss: 0.0272 - accuracy: 0.9910\n",
            "313/313 [==============================] - 1s 2ms/step - loss: 0.0768 - accuracy: 0.9771\n"
          ],
          "name": "stdout"
        },
        {
          "output_type": "execute_result",
          "data": {
            "text/plain": [
              "([0, 1, 2, 3, 4], 0.9909666776657104, [0.0768001526594162, 0.9771000146865845])"
            ]
          },
          "metadata": {
            "tags": []
          },
          "execution_count": 28
        }
      ]
    },
    {
      "cell_type": "markdown",
      "metadata": {
        "id": "GNrk3NDUCnqE",
        "colab_type": "text"
      },
      "source": [
        "Our model gives a 99% Training accuracy and 97% Validation accuracy.\n"
      ]
    }
  ]
}